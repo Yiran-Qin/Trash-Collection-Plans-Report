{
 "cells": [
  {
   "cell_type": "markdown",
   "metadata": {},
   "source": [
    "## Introduction \n",
    "The Environmental Center at Westminster College has been curious about how to cut down the budget for trash pickups. We chose Ace Recycling and Disposal, Inc to recycle trash in the past few years. We noticed that during certain months in a school year, dumpsters got recycled too often. For example, Janurary is winter break, but the truck still comes to pickup trash twice a week which is not reasonable for a financial wide.\n",
    "\n",
    "Currently, Westminster College keeps the schedule (pickup twice a week). Howwever, Ace Recycling and Disposal also offers call to pickup next day service. As a Data Analyst at the Environmental Center, I will run some visualizations and analysis to decide whether we should switch the pickup plan or not. Let's get dive into the data to see which plan is better."
   ]
  },
  {
   "cell_type": "code",
   "execution_count": 1,
   "metadata": {},
   "outputs": [],
   "source": [
    "# Import some necessary libraries and packages \n",
    "import pandas as pd\n",
    "import numpy as np\n",
    "import matplotlib.pyplot as plt\n",
    "import seaborn as sns\n",
    "%matplotlib inline"
   ]
  },
  {
   "cell_type": "markdown",
   "metadata": {},
   "source": [
    "## Analysis and Visualization\n",
    "I cleaned the dataset in Excel before I imported into Jupyter Notebook. Therefore, you can see I used 'Waste 1.csv' and 'Waste 2.csv' two datasets below. They are from the same raw dataset, but I sorted them into different ways. I will also attach my Excel files with this file."
   ]
  },
  {
   "cell_type": "code",
   "execution_count": 19,
   "metadata": {
    "scrolled": true
   },
   "outputs": [
    {
     "data": {
      "text/html": [
       "<div>\n",
       "<style scoped>\n",
       "    .dataframe tbody tr th:only-of-type {\n",
       "        vertical-align: middle;\n",
       "    }\n",
       "\n",
       "    .dataframe tbody tr th {\n",
       "        vertical-align: top;\n",
       "    }\n",
       "\n",
       "    .dataframe thead th {\n",
       "        text-align: right;\n",
       "    }\n",
       "</style>\n",
       "<table border=\"1\" class=\"dataframe\">\n",
       "  <thead>\n",
       "    <tr style=\"text-align: right;\">\n",
       "      <th></th>\n",
       "      <th>TripDate</th>\n",
       "      <th>Destination</th>\n",
       "      <th>Material</th>\n",
       "      <th>Weight</th>\n",
       "    </tr>\n",
       "  </thead>\n",
       "  <tbody>\n",
       "    <tr>\n",
       "      <td>0</td>\n",
       "      <td>1/7/15</td>\n",
       "      <td>ROCKY MTN</td>\n",
       "      <td>SINGLE STR</td>\n",
       "      <td>0.92</td>\n",
       "    </tr>\n",
       "    <tr>\n",
       "      <td>1</td>\n",
       "      <td>1/14/15</td>\n",
       "      <td>ROCKY MTN</td>\n",
       "      <td>SINGLE STR</td>\n",
       "      <td>0.83</td>\n",
       "    </tr>\n",
       "    <tr>\n",
       "      <td>2</td>\n",
       "      <td>1/16/15</td>\n",
       "      <td>ROCKY MTN</td>\n",
       "      <td>SINGLE STR</td>\n",
       "      <td>0.40</td>\n",
       "    </tr>\n",
       "    <tr>\n",
       "      <td>3</td>\n",
       "      <td>1/19/15</td>\n",
       "      <td>ROCKY MTN</td>\n",
       "      <td>SINGLE STR</td>\n",
       "      <td>0.17</td>\n",
       "    </tr>\n",
       "    <tr>\n",
       "      <td>4</td>\n",
       "      <td>1/21/15</td>\n",
       "      <td>ROCKY MTN</td>\n",
       "      <td>SINGLE STR</td>\n",
       "      <td>0.41</td>\n",
       "    </tr>\n",
       "    <tr>\n",
       "      <td>...</td>\n",
       "      <td>...</td>\n",
       "      <td>...</td>\n",
       "      <td>...</td>\n",
       "      <td>...</td>\n",
       "    </tr>\n",
       "    <tr>\n",
       "      <td>317</td>\n",
       "      <td>12/18/15</td>\n",
       "      <td>ACE INTERM</td>\n",
       "      <td>TRASH</td>\n",
       "      <td>0.08</td>\n",
       "    </tr>\n",
       "    <tr>\n",
       "      <td>318</td>\n",
       "      <td>12/21/15</td>\n",
       "      <td>ACE INTERM</td>\n",
       "      <td>TRASH</td>\n",
       "      <td>0.30</td>\n",
       "    </tr>\n",
       "    <tr>\n",
       "      <td>319</td>\n",
       "      <td>12/22/15</td>\n",
       "      <td>ACE INTERM</td>\n",
       "      <td>TRASH</td>\n",
       "      <td>0.12</td>\n",
       "    </tr>\n",
       "    <tr>\n",
       "      <td>320</td>\n",
       "      <td>12/23/15</td>\n",
       "      <td>ACE INTERM</td>\n",
       "      <td>TRASH</td>\n",
       "      <td>0.29</td>\n",
       "    </tr>\n",
       "    <tr>\n",
       "      <td>321</td>\n",
       "      <td>12/31/15</td>\n",
       "      <td>ACE INTERM</td>\n",
       "      <td>TRASH</td>\n",
       "      <td>0.30</td>\n",
       "    </tr>\n",
       "  </tbody>\n",
       "</table>\n",
       "<p>322 rows × 4 columns</p>\n",
       "</div>"
      ],
      "text/plain": [
       "     TripDate Destination    Material  Weight\n",
       "0      1/7/15   ROCKY MTN  SINGLE STR    0.92\n",
       "1     1/14/15   ROCKY MTN  SINGLE STR    0.83\n",
       "2     1/16/15   ROCKY MTN  SINGLE STR    0.40\n",
       "3     1/19/15   ROCKY MTN  SINGLE STR    0.17\n",
       "4     1/21/15   ROCKY MTN  SINGLE STR    0.41\n",
       "..        ...         ...         ...     ...\n",
       "317  12/18/15  ACE INTERM       TRASH    0.08\n",
       "318  12/21/15  ACE INTERM       TRASH    0.30\n",
       "319  12/22/15  ACE INTERM       TRASH    0.12\n",
       "320  12/23/15  ACE INTERM       TRASH    0.29\n",
       "321  12/31/15  ACE INTERM       TRASH    0.30\n",
       "\n",
       "[322 rows x 4 columns]"
      ]
     },
     "execution_count": 19,
     "metadata": {},
     "output_type": "execute_result"
    }
   ],
   "source": [
    "waste_1 = pd.read_csv('Waste 1.csv')\n",
    "waste_1"
   ]
  },
  {
   "cell_type": "code",
   "execution_count": 12,
   "metadata": {},
   "outputs": [
    {
     "name": "stdout",
     "output_type": "stream",
     "text": [
      "<class 'pandas.core.frame.DataFrame'>\n",
      "RangeIndex: 322 entries, 0 to 321\n",
      "Data columns (total 4 columns):\n",
      "TripDate       322 non-null object\n",
      "Destination    322 non-null object\n",
      "Material       322 non-null object\n",
      "Weight         322 non-null float64\n",
      "dtypes: float64(1), object(3)\n",
      "memory usage: 10.2+ KB\n"
     ]
    }
   ],
   "source": [
    "waste.info()"
   ]
  },
  {
   "cell_type": "code",
   "execution_count": 20,
   "metadata": {
    "hide_input": false,
    "scrolled": true
   },
   "outputs": [
    {
     "data": {
      "text/plain": [
       "<matplotlib.axes._subplots.AxesSubplot at 0x19bcc5736c8>"
      ]
     },
     "execution_count": 20,
     "metadata": {},
     "output_type": "execute_result"
    },
    {
     "data": {
      "image/png": "[encoded data removed]",
      "text/plain": [
       "<Figure size 432x288 with 1 Axes>"
      ]
     },
     "metadata": {
      "needs_background": "light"
     },
     "output_type": "display_data"
    }
   ],
   "source": [
    "# First of all, I used a scatterplot to show the relationship\n",
    "sns.scatterplot(x = 'TripDate', y = 'Weight', data = waste_1, hue = 'Material')"
   ]
  },
  {
   "cell_type": "markdown",
   "metadata": {},
   "source": [
    "As the plot shown above, 'TripDate' was too many to count, so we can see tons of tiny dots clustered together. Even the plot cannot provide me valuable information for the analysis. I still want to put the plot to remind me the importance of data cleaning and sorting. In general, scatter plot is the primary choice for discover the relationship between variables.\n"
   ]
  },
  {
   "cell_type": "code",
   "execution_count": 36,
   "metadata": {},
   "outputs": [
    {
     "data": {
      "text/html": [
       "<div>\n",
       "<style scoped>\n",
       "    .dataframe tbody tr th:only-of-type {\n",
       "        vertical-align: middle;\n",
       "    }\n",
       "\n",
       "    .dataframe tbody tr th {\n",
       "        vertical-align: top;\n",
       "    }\n",
       "\n",
       "    .dataframe thead th {\n",
       "        text-align: right;\n",
       "    }\n",
       "</style>\n",
       "<table border=\"1\" class=\"dataframe\">\n",
       "  <thead>\n",
       "    <tr style=\"text-align: right;\">\n",
       "      <th></th>\n",
       "      <th>C&amp;D</th>\n",
       "      <th>Cardboard</th>\n",
       "      <th>Single Str</th>\n",
       "      <th>Trash</th>\n",
       "      <th>Grand Total</th>\n",
       "    </tr>\n",
       "    <tr>\n",
       "      <th>Month</th>\n",
       "      <th></th>\n",
       "      <th></th>\n",
       "      <th></th>\n",
       "      <th></th>\n",
       "      <th></th>\n",
       "    </tr>\n",
       "  </thead>\n",
       "  <tbody>\n",
       "    <tr>\n",
       "      <td>Jan</td>\n",
       "      <td>0.00</td>\n",
       "      <td>0.00</td>\n",
       "      <td>3.72</td>\n",
       "      <td>16.29</td>\n",
       "      <td>20.01</td>\n",
       "    </tr>\n",
       "    <tr>\n",
       "      <td>Feb</td>\n",
       "      <td>0.00</td>\n",
       "      <td>0.00</td>\n",
       "      <td>4.13</td>\n",
       "      <td>20.19</td>\n",
       "      <td>24.32</td>\n",
       "    </tr>\n",
       "    <tr>\n",
       "      <td>Mar</td>\n",
       "      <td>0.00</td>\n",
       "      <td>0.23</td>\n",
       "      <td>4.02</td>\n",
       "      <td>14.93</td>\n",
       "      <td>19.18</td>\n",
       "    </tr>\n",
       "    <tr>\n",
       "      <td>Apr</td>\n",
       "      <td>2.29</td>\n",
       "      <td>0.00</td>\n",
       "      <td>5.65</td>\n",
       "      <td>22.09</td>\n",
       "      <td>30.03</td>\n",
       "    </tr>\n",
       "    <tr>\n",
       "      <td>May</td>\n",
       "      <td>0.00</td>\n",
       "      <td>0.00</td>\n",
       "      <td>5.62</td>\n",
       "      <td>17.23</td>\n",
       "      <td>22.85</td>\n",
       "    </tr>\n",
       "    <tr>\n",
       "      <td>Jun</td>\n",
       "      <td>0.00</td>\n",
       "      <td>0.00</td>\n",
       "      <td>5.35</td>\n",
       "      <td>19.98</td>\n",
       "      <td>25.33</td>\n",
       "    </tr>\n",
       "    <tr>\n",
       "      <td>Jul</td>\n",
       "      <td>0.00</td>\n",
       "      <td>0.00</td>\n",
       "      <td>5.07</td>\n",
       "      <td>15.19</td>\n",
       "      <td>20.26</td>\n",
       "    </tr>\n",
       "    <tr>\n",
       "      <td>Aug</td>\n",
       "      <td>0.00</td>\n",
       "      <td>0.85</td>\n",
       "      <td>5.70</td>\n",
       "      <td>16.67</td>\n",
       "      <td>23.22</td>\n",
       "    </tr>\n",
       "    <tr>\n",
       "      <td>Sep</td>\n",
       "      <td>0.00</td>\n",
       "      <td>0.55</td>\n",
       "      <td>5.07</td>\n",
       "      <td>20.90</td>\n",
       "      <td>26.52</td>\n",
       "    </tr>\n",
       "    <tr>\n",
       "      <td>Oct</td>\n",
       "      <td>1.86</td>\n",
       "      <td>0.00</td>\n",
       "      <td>3.79</td>\n",
       "      <td>17.37</td>\n",
       "      <td>23.02</td>\n",
       "    </tr>\n",
       "    <tr>\n",
       "      <td>Nov</td>\n",
       "      <td>0.52</td>\n",
       "      <td>0.00</td>\n",
       "      <td>9.56</td>\n",
       "      <td>16.76</td>\n",
       "      <td>26.84</td>\n",
       "    </tr>\n",
       "    <tr>\n",
       "      <td>Dec</td>\n",
       "      <td>0.00</td>\n",
       "      <td>0.00</td>\n",
       "      <td>3.65</td>\n",
       "      <td>13.81</td>\n",
       "      <td>17.46</td>\n",
       "    </tr>\n",
       "  </tbody>\n",
       "</table>\n",
       "</div>"
      ],
      "text/plain": [
       "        C&D  Cardboard  Single Str  Trash  Grand Total\n",
       "Month                                                 \n",
       "Jan    0.00       0.00        3.72  16.29        20.01\n",
       "Feb    0.00       0.00        4.13  20.19        24.32\n",
       "Mar    0.00       0.23        4.02  14.93        19.18\n",
       "Apr    2.29       0.00        5.65  22.09        30.03\n",
       "May    0.00       0.00        5.62  17.23        22.85\n",
       "Jun    0.00       0.00        5.35  19.98        25.33\n",
       "Jul    0.00       0.00        5.07  15.19        20.26\n",
       "Aug    0.00       0.85        5.70  16.67        23.22\n",
       "Sep    0.00       0.55        5.07  20.90        26.52\n",
       "Oct    1.86       0.00        3.79  17.37        23.02\n",
       "Nov    0.52       0.00        9.56  16.76        26.84\n",
       "Dec    0.00       0.00        3.65  13.81        17.46"
      ]
     },
     "execution_count": 36,
     "metadata": {},
     "output_type": "execute_result"
    }
   ],
   "source": [
    "waste_2 = pd.read_csv('Waste 2.csv', index_col='Month')\n",
    "waste_2"
   ]
  },
  {
   "cell_type": "code",
   "execution_count": 37,
   "metadata": {},
   "outputs": [
    {
     "data": {
      "text/html": [
       "<div>\n",
       "<style scoped>\n",
       "    .dataframe tbody tr th:only-of-type {\n",
       "        vertical-align: middle;\n",
       "    }\n",
       "\n",
       "    .dataframe tbody tr th {\n",
       "        vertical-align: top;\n",
       "    }\n",
       "\n",
       "    .dataframe thead th {\n",
       "        text-align: right;\n",
       "    }\n",
       "</style>\n",
       "<table border=\"1\" class=\"dataframe\">\n",
       "  <thead>\n",
       "    <tr style=\"text-align: right;\">\n",
       "      <th></th>\n",
       "      <th>Material</th>\n",
       "    </tr>\n",
       "  </thead>\n",
       "  <tbody>\n",
       "    <tr>\n",
       "      <td>0</td>\n",
       "      <td>C&amp;D</td>\n",
       "    </tr>\n",
       "    <tr>\n",
       "      <td>1</td>\n",
       "      <td>Cardboard</td>\n",
       "    </tr>\n",
       "    <tr>\n",
       "      <td>2</td>\n",
       "      <td>Single Str</td>\n",
       "    </tr>\n",
       "    <tr>\n",
       "      <td>3</td>\n",
       "      <td>Trash</td>\n",
       "    </tr>\n",
       "  </tbody>\n",
       "</table>\n",
       "</div>"
      ],
      "text/plain": [
       "     Material\n",
       "0         C&D\n",
       "1   Cardboard\n",
       "2  Single Str\n",
       "3       Trash"
      ]
     },
     "execution_count": 37,
     "metadata": {},
     "output_type": "execute_result"
    }
   ],
   "source": [
    "# I converted four different materials into one category\n",
    "df = pd.DataFrame({\"Material\": [\"C&D\", \"Cardboard\", \"Single Str\", \"Trash\"]})\n",
    "df"
   ]
  },
  {
   "cell_type": "code",
   "execution_count": 51,
   "metadata": {
    "scrolled": true
   },
   "outputs": [],
   "source": [
    "# I used 'matplotlib' package to plot the second dataset\n",
    "a = waste_2['C&D']\n",
    "b = waste_2['Cardboard']\n",
    "c = waste_2['Single Str']\n",
    "d = waste_2['Trash']"
   ]
  },
  {
   "cell_type": "code",
   "execution_count": 61,
   "metadata": {},
   "outputs": [
    {
     "data": {
      "text/plain": [
       "Text(0.5, 1.0, 'Waste Weight Time Series')"
      ]
     },
     "execution_count": 61,
     "metadata": {},
     "output_type": "execute_result"
    },
    {
     "data": {
      "image/png": "[encoded data removed]",
      "text/plain": [
       "<Figure size 432x288 with 1 Axes>"
      ]
     },
     "metadata": {
      "needs_background": "light"
     },
     "output_type": "display_data"
    }
   ],
   "source": [
    "plt.plot(a, label='C&D')\n",
    "plt.plot(b, label='Cardboard')\n",
    "plt.plot(c, label='Single Str')\n",
    "plt.plot(d, label='Trash')\n",
    "\n",
    "plt.legend(loc='center left')\n",
    "plt.xlabel('Month')\n",
    "plt.ylabel('Weight (ton)')\n",
    "plt.title('Waste Weight Time Series')"
   ]
  },
  {
   "cell_type": "markdown",
   "metadata": {},
   "source": [
    "From the chart we can see that, Trash is the heaviest garbage in the dumpster. 'Janurary', 'July', 'December' and so on are the lowest weight during this year. Therefore, we assume we don't need truck to come pickup twice a week every month.  \n",
    "\n"
   ]
  },
  {
   "cell_type": "markdown",
   "metadata": {},
   "source": [
    "## Calculation\n",
    "Next step, I will calulate the total weight of each material cause I called Ace Recycling and Disposal, Inc. They told me truck would pickup **70% weight of trash each dumpster and 80% weight of single stream each dumpster everytime**. So we can figure out how many times would school need for the whole year and we can compare with the current price.\n"
   ]
  },
  {
   "cell_type": "code",
   "execution_count": 59,
   "metadata": {},
   "outputs": [
    {
     "name": "stdout",
     "output_type": "stream",
     "text": [
      "211.41\n"
     ]
    }
   ],
   "source": [
    "# The total weight of trash\n",
    "trash = waste_2['Trash'].sum()\n",
    "print(trash)"
   ]
  },
  {
   "cell_type": "code",
   "execution_count": 60,
   "metadata": {},
   "outputs": [
    {
     "name": "stdout",
     "output_type": "stream",
     "text": [
      "61.33\n"
     ]
    }
   ],
   "source": [
    "# The total weight of single string\n",
    "single = waste_2['Single Str'].sum()\n",
    "print(single)"
   ]
  },
  {
   "cell_type": "code",
   "execution_count": 62,
   "metadata": {},
   "outputs": [
    {
     "name": "stdout",
     "output_type": "stream",
     "text": [
      "4.67\n"
     ]
    }
   ],
   "source": [
    "# The total weight of C&D\n",
    "CD = waste_2['C&D'].sum()\n",
    "print(CD)"
   ]
  },
  {
   "cell_type": "code",
   "execution_count": 63,
   "metadata": {},
   "outputs": [
    {
     "name": "stdout",
     "output_type": "stream",
     "text": [
      "1.6300000000000001\n"
     ]
    }
   ],
   "source": [
    "# The total weight of Cardboard\n",
    "card = waste_2['Cardboard'].sum()\n",
    "print(card)"
   ]
  },
  {
   "cell_type": "markdown",
   "metadata": {},
   "source": [
    "According to the info from the Environmental Center, we have two 16-yard 3600 pounds (1.8 tons) dumpsters and two 8-yard 1800 pounds (0.9 tons) dumpsters on campus. Since C&D and Cardboard material are very less, we will focus on trash and single stream. Every time you call for a pick up will cost you $ 179."
   ]
  },
  {
   "cell_type": "code",
   "execution_count": 65,
   "metadata": {},
   "outputs": [
    {
     "data": {
      "text/plain": [
       "167.46031746031747"
      ]
     },
     "execution_count": 65,
     "metadata": {},
     "output_type": "execute_result"
    }
   ],
   "source": [
    "# How many times we need to pick up the trash\n",
    "trash_times = 211/(1.8*0.7)\n",
    "trash_times"
   ]
  },
  {
   "cell_type": "code",
   "execution_count": 66,
   "metadata": {},
   "outputs": [
    {
     "data": {
      "text/plain": [
       "42.36111111111111"
      ]
     },
     "execution_count": 66,
     "metadata": {},
     "output_type": "execute_result"
    }
   ],
   "source": [
    "# How many times we need to pick up the single stream\n",
    "single_times = 61/(1.8*0.8)\n",
    "single_times"
   ]
  },
  {
   "cell_type": "code",
   "execution_count": 68,
   "metadata": {},
   "outputs": [
    {
     "data": {
      "text/plain": [
       "209.82142857142858"
      ]
     },
     "execution_count": 68,
     "metadata": {},
     "output_type": "execute_result"
    }
   ],
   "source": [
    "total_times = (trash_times + single_times)\n",
    "total_times"
   ]
  },
  {
   "cell_type": "code",
   "execution_count": 74,
   "metadata": {},
   "outputs": [
    {
     "data": {
      "text/plain": [
       "37590"
      ]
     },
     "execution_count": 74,
     "metadata": {},
     "output_type": "execute_result"
    }
   ],
   "source": [
    "total_cost = 210 * 179\n",
    "total_cost"
   ]
  },
  {
   "cell_type": "markdown",
   "metadata": {},
   "source": [
    "## Conclusion\n",
    "Due to the reponse from the Administration office at Westminster College, we spend **29,500 USD per year** on dumpster pickups currently. The new plan I estimated costs **37,590 USD per year** is more than the old plan. It seems the old plan is much better than the new plan, and we had thinking mistake that call for pickup would be less cost.\n",
    "\n",
    "Unfortunately, we cannot have the conclusion yet. We still have few more points and aspects to consider. On the one hand, the unit price of dumpster pickup is way higher than the scheduled pickup, so we might have to ask for the price from different companies. Maybe we can find a cheaper price for the service. On the other hand, garbage classification still not implement thoroughly on campus. I observed some students do not follow the garbage classification policy at all, so this maybe another leading cause to the higher price. To improve the problem, we can strengthen the garbage classification education during the school year, especially during the orientation week. Last but not least, sample size is not big enough, so the result may not have the representative of real situation."
   ]
  }
 ],
 "metadata": {
  "kernelspec": {
   "display_name": "Python 3",
   "language": "python",
   "name": "python3"
  },
  "language_info": {
   "codemirror_mode": {
    "name": "ipython",
    "version": 3
   },
   "file_extension": ".py",
   "mimetype": "text/x-python",
   "name": "python",
   "nbconvert_exporter": "python",
   "pygments_lexer": "ipython3",
   "version": "3.7.4"
  }
 },
 "nbformat": 4,
 "nbformat_minor": 2
}
